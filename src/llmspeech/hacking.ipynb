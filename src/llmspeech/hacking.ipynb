{
 "cells": [
  {
   "cell_type": "code",
   "execution_count": 33,
   "metadata": {},
   "outputs": [],
   "source": [
    "import torch\n",
    "from llmspeech.model import GPT\n",
    "from einops import rearrange, repeat\n",
    "from torch.cuda.amp import autocast\n",
    "from torch import Tensor\n",
    "# from rotary_embedding_torch import apply_rotary_emb"
   ]
  },
  {
   "cell_type": "code",
   "execution_count": 2,
   "metadata": {},
   "outputs": [],
   "source": [
    "device = \"cuda\""
   ]
  },
  {
   "cell_type": "code",
   "execution_count": 3,
   "metadata": {},
   "outputs": [],
   "source": [
    "name = \"gpt-small-055000.pt\"\n",
    "step = name.split(\"-\")[-1].split(\".\")[0]\n",
    "model = GPT.from_huggingface(\"gpt-small-055000.pt\").eval().to(device)"
   ]
  },
  {
   "cell_type": "code",
   "execution_count": 4,
   "metadata": {},
   "outputs": [],
   "source": [
    "B, n_heads, max_seqlen, d_head = (\n",
    "    1,\n",
    "    model.config.n_heads,\n",
    "    4096,\n",
    "    model.config.d_model // model.config.n_heads,\n",
    ")\n",
    "q = torch.randn((B, n_heads, max_seqlen, d_head), device=device)\n",
    "q_lucidrains = model.decoder.blocks[0].attn.rotary_emb.rotate_queries_or_keys(q)"
   ]
  },
  {
   "cell_type": "code",
   "execution_count": 5,
   "metadata": {},
   "outputs": [
    {
     "data": {
      "text/plain": [
       "torch.Size([1, 12, 4096, 64])"
      ]
     },
     "execution_count": 5,
     "metadata": {},
     "output_type": "execute_result"
    }
   ],
   "source": [
    "q_lucidrains.shape"
   ]
  },
  {
   "cell_type": "code",
   "execution_count": 6,
   "metadata": {},
   "outputs": [
    {
     "data": {
      "text/plain": [
       "tensor([[[[ 1.4490, -0.8268, -1.0788,  ...,  0.2822, -0.0291,  0.7546],\n",
       "          [ 0.3623,  2.1878,  1.0621,  ...,  0.0234, -0.4768,  0.5508],\n",
       "          [-0.5561,  1.6592, -0.5241,  ..., -1.2569,  1.9518, -2.2922],\n",
       "          ...,\n",
       "          [ 0.5861,  2.5088, -0.9223,  ...,  0.5935,  0.1566, -1.1205],\n",
       "          [-0.3012, -1.2545, -0.5004,  ..., -0.6181, -2.0841,  0.3057],\n",
       "          [ 0.1696,  0.4944,  0.5403,  ...,  0.5116,  0.5030, -0.4345]],\n",
       "\n",
       "         [[-0.2307,  1.1640,  0.3676,  ...,  1.4544,  0.8257,  1.1746],\n",
       "          [-1.1515, -0.5102,  0.0189,  ..., -0.5825,  1.0733,  0.3655],\n",
       "          [-0.1857, -0.8186, -0.2061,  ...,  0.4051,  0.6016,  1.1461],\n",
       "          ...,\n",
       "          [ 0.0291, -0.4775, -0.1134,  ..., -1.1242, -1.1331, -0.5373],\n",
       "          [-1.6571, -0.2224,  0.6021,  ..., -0.6981,  0.1160,  0.6479],\n",
       "          [-0.7649, -0.9822,  0.2265,  ...,  0.8639,  0.7711, -0.9251]],\n",
       "\n",
       "         [[ 0.1778,  0.7321, -0.5939,  ..., -0.2232, -0.4939, -0.3253],\n",
       "          [ 1.1385,  0.2855,  0.5540,  ..., -0.7063, -0.6987,  0.9656],\n",
       "          [ 0.8497,  0.9224,  0.5808,  ..., -0.4868,  0.0563, -0.9426],\n",
       "          ...,\n",
       "          [-0.2230,  0.4244,  1.7673,  ...,  0.1164, -1.3612, -0.1560],\n",
       "          [-0.9748,  0.1093, -0.5603,  ..., -0.6302, -1.2234,  1.4628],\n",
       "          [ 0.1252, -1.5776,  0.4487,  ...,  0.9454,  2.0703,  0.3751]],\n",
       "\n",
       "         ...,\n",
       "\n",
       "         [[ 1.1279,  0.2904, -1.0413,  ..., -0.4776,  0.9908, -0.5092],\n",
       "          [ 1.0189,  1.5202,  0.7030,  ...,  1.5706, -0.8300,  0.9438],\n",
       "          [-0.1443,  1.4608,  1.5441,  ..., -0.4589, -1.3462, -1.2681],\n",
       "          ...,\n",
       "          [-0.8084,  0.6614,  0.6552,  ..., -0.3481, -0.4006, -0.7783],\n",
       "          [-0.2891, -0.4490, -1.2950,  ...,  0.0794, -1.8704, -1.6496],\n",
       "          [-0.6062,  0.0516,  0.1801,  ..., -0.5690, -2.0727, -0.1402]],\n",
       "\n",
       "         [[ 1.0618, -0.7461, -0.8987,  ...,  0.2958, -1.5618, -0.2066],\n",
       "          [-0.0960, -1.8020,  2.0147,  ..., -0.0384, -0.0064,  0.1649],\n",
       "          [-0.5138, -0.6530, -1.1562,  ..., -0.1684,  1.7535, -0.0336],\n",
       "          ...,\n",
       "          [ 0.7164,  0.3285,  1.7017,  ..., -0.2479, -0.4651,  0.4609],\n",
       "          [ 1.4001, -0.4564,  1.3620,  ...,  0.0605, -1.4946, -0.7703],\n",
       "          [ 0.2330,  1.0829,  2.0745,  ..., -0.9368,  0.0313, -1.3334]],\n",
       "\n",
       "         [[-0.9116,  0.8536,  0.4433,  ..., -0.2769,  0.3482, -0.3786],\n",
       "          [ 1.8955,  0.4971,  0.4317,  ...,  1.3596,  0.0595,  0.2760],\n",
       "          [ 0.4726,  0.6783,  0.7429,  ...,  1.2973,  0.7950, -0.0204],\n",
       "          ...,\n",
       "          [ 0.5448, -0.2280, -1.0049,  ..., -1.7591, -0.9446,  0.1790],\n",
       "          [ 0.6525,  1.3929, -0.6768,  ...,  0.9652, -0.1010, -0.7566],\n",
       "          [-0.0935, -1.6186,  0.8276,  ..., -0.4643, -1.9193, -0.5762]]]],\n",
       "       device='cuda:0')"
      ]
     },
     "execution_count": 6,
     "metadata": {},
     "output_type": "execute_result"
    }
   ],
   "source": [
    "q_lucidrains"
   ]
  },
  {
   "cell_type": "code",
   "execution_count": 7,
   "metadata": {},
   "outputs": [
    {
     "data": {
      "text/plain": [
       "True"
      ]
     },
     "execution_count": 7,
     "metadata": {},
     "output_type": "execute_result"
    }
   ],
   "source": [
    "model.decoder.blocks[0].attn.rotary_emb.cache_if_possible"
   ]
  },
  {
   "cell_type": "code",
   "execution_count": 8,
   "metadata": {},
   "outputs": [
    {
     "data": {
      "text/plain": [
       "-2"
      ]
     },
     "execution_count": 8,
     "metadata": {},
     "output_type": "execute_result"
    }
   ],
   "source": [
    "model.decoder.blocks[0].attn.rotary_emb.default_seq_dim"
   ]
  },
  {
   "cell_type": "code",
   "execution_count": 9,
   "metadata": {},
   "outputs": [],
   "source": [
    "cached_freqs = model.decoder.blocks[0].attn.rotary_emb.cached_freqs"
   ]
  },
  {
   "cell_type": "code",
   "execution_count": 10,
   "metadata": {},
   "outputs": [
    {
     "data": {
      "text/plain": [
       "torch.Size([4096, 32])"
      ]
     },
     "execution_count": 10,
     "metadata": {},
     "output_type": "execute_result"
    }
   ],
   "source": [
    "cached_freqs.shape"
   ]
  },
  {
   "cell_type": "code",
   "execution_count": 11,
   "metadata": {},
   "outputs": [
    {
     "data": {
      "text/plain": [
       "tensor([[0.0000e+00, 0.0000e+00, 0.0000e+00,  ..., 0.0000e+00, 0.0000e+00,\n",
       "         0.0000e+00],\n",
       "        [1.0000e+00, 1.0000e+00, 5.6234e-01,  ..., 3.1623e-04, 1.7783e-04,\n",
       "         1.7783e-04],\n",
       "        [2.0000e+00, 2.0000e+00, 1.1247e+00,  ..., 6.3246e-04, 3.5566e-04,\n",
       "         3.5566e-04],\n",
       "        ...,\n",
       "        [4.0930e+03, 4.0930e+03, 2.3017e+03,  ..., 1.2943e+00, 7.2785e-01,\n",
       "         7.2785e-01],\n",
       "        [4.0940e+03, 4.0940e+03, 2.3022e+03,  ..., 1.2946e+00, 7.2803e-01,\n",
       "         7.2803e-01],\n",
       "        [4.0950e+03, 4.0950e+03, 2.3028e+03,  ..., 1.2950e+00, 7.2821e-01,\n",
       "         7.2821e-01]], device='cuda:0')"
      ]
     },
     "execution_count": 11,
     "metadata": {},
     "output_type": "execute_result"
    }
   ],
   "source": [
    "cached_freqs"
   ]
  },
  {
   "cell_type": "code",
   "execution_count": 12,
   "metadata": {},
   "outputs": [
    {
     "data": {
      "text/plain": [
       "torch.float32"
      ]
     },
     "execution_count": 12,
     "metadata": {},
     "output_type": "execute_result"
    }
   ],
   "source": [
    "cached_freqs.dtype"
   ]
  },
  {
   "cell_type": "code",
   "execution_count": 35,
   "metadata": {},
   "outputs": [],
   "source": [
    "def rotate_half(x):\n",
    "    x = rearrange(x, \"... (d r) -> ... d r\", r=2)\n",
    "    x1, x2 = x.unbind(dim=-1)\n",
    "    x = torch.stack((-x2, x1), dim=-1)\n",
    "    return rearrange(x, \"... d r -> ... (d r)\")\n",
    "\n",
    "\n",
    "@autocast(enabled=False)\n",
    "def apply_rotary_emb(freqs: Tensor, t: Tensor, start_index:int=0, scale=1.0, seq_dim=-2):\n",
    "    dtype = t.dtype\n",
    "    assert t.size(seq_dim) <= freqs.size(0)\n",
    "\n",
    "    if t.ndim == 3:\n",
    "        seq_len = t.shape[seq_dim]\n",
    "        freqs = freqs[-seq_len:]\n",
    "\n",
    "    rot_dim = freqs.shape[-1]\n",
    "    end_index = start_index + rot_dim\n",
    "\n",
    "    assert (\n",
    "        rot_dim <= t.shape[-1]\n",
    "    ), f\"feature dimension {t.shape[-1]} is not of sufficient size to rotate in all the positions {rot_dim}\"\n",
    "\n",
    "    t_left, t, t_right = (\n",
    "        t[..., :start_index],\n",
    "        t[..., start_index:end_index],\n",
    "        t[..., end_index:],\n",
    "    )\n",
    "    t = (t * freqs.cos() * scale) + (rotate_half(t) * freqs.sin() * scale)\n",
    "    out = torch.cat((t_left, t, t_right), dim=-1)\n",
    "\n",
    "    return out.type(dtype)\n",
    "\n",
    "\n",
    "def precompute(dim: int, max_seqlen: int, theta=10000, dtype=torch.float32):\n",
    "    t = torch.arange(max_seqlen, dtype=dtype)\n",
    "    freqs = 1.0 / (theta ** (torch.arange(0, dim, 2)[: (dim // 2)].float() / dim))\n",
    "\n",
    "    freqs = torch.einsum(\"..., f -> ... f\", t.type(freqs.dtype), freqs)\n",
    "    freqs = repeat(freqs, \"... n -> ... (n r)\", r=2)\n",
    "\n",
    "    return freqs\n",
    "\n",
    "\n",
    "def get_seq_pos(self, seq_len, device, dtype, offset=0):\n",
    "    return (\n",
    "        torch.arange(seq_len, device=device, dtype=dtype) + offset\n",
    "    ) / self.interpolate_factor"
   ]
  },
  {
   "cell_type": "code",
   "execution_count": 36,
   "metadata": {},
   "outputs": [],
   "source": [
    "lucidrains_freqs = precompute(d_head // 2, max_seqlen, dtype=torch.float32).to(device)"
   ]
  },
  {
   "cell_type": "code",
   "execution_count": 37,
   "metadata": {},
   "outputs": [
    {
     "data": {
      "text/plain": [
       "torch.Size([4096, 32])"
      ]
     },
     "execution_count": 37,
     "metadata": {},
     "output_type": "execute_result"
    }
   ],
   "source": [
    "lucidrains_freqs.shape"
   ]
  },
  {
   "cell_type": "code",
   "execution_count": 38,
   "metadata": {},
   "outputs": [
    {
     "data": {
      "text/plain": [
       "torch.Size([1, 12, 4096, 64])"
      ]
     },
     "execution_count": 38,
     "metadata": {},
     "output_type": "execute_result"
    }
   ],
   "source": [
    "q.shape"
   ]
  },
  {
   "cell_type": "code",
   "execution_count": 39,
   "metadata": {},
   "outputs": [],
   "source": [
    "q_rotated = apply_rotary_emb(lucidrains_freqs, q)"
   ]
  },
  {
   "cell_type": "code",
   "execution_count": 40,
   "metadata": {},
   "outputs": [
    {
     "data": {
      "text/plain": [
       "tensor([[[[ 1.4490, -0.8268, -1.0788,  ...,  0.2822, -0.0291,  0.7546],\n",
       "          [ 0.3623,  2.1878,  1.0621,  ...,  0.0234, -0.4768,  0.5508],\n",
       "          [-0.5561,  1.6592, -0.5241,  ..., -1.2569,  1.9518, -2.2922],\n",
       "          ...,\n",
       "          [ 0.5861,  2.5088, -0.9223,  ...,  0.5935,  0.1566, -1.1205],\n",
       "          [-0.3012, -1.2545, -0.5004,  ..., -0.6181, -2.0841,  0.3057],\n",
       "          [ 0.1696,  0.4944,  0.5403,  ...,  0.5116,  0.5030, -0.4345]],\n",
       "\n",
       "         [[-0.2307,  1.1640,  0.3676,  ...,  1.4544,  0.8257,  1.1746],\n",
       "          [-1.1515, -0.5102,  0.0189,  ..., -0.5825,  1.0733,  0.3655],\n",
       "          [-0.1857, -0.8186, -0.2061,  ...,  0.4051,  0.6016,  1.1461],\n",
       "          ...,\n",
       "          [ 0.0291, -0.4775, -0.1134,  ..., -1.1242, -1.1331, -0.5373],\n",
       "          [-1.6571, -0.2224,  0.6021,  ..., -0.6981,  0.1160,  0.6479],\n",
       "          [-0.7649, -0.9822,  0.2265,  ...,  0.8639,  0.7711, -0.9251]],\n",
       "\n",
       "         [[ 0.1778,  0.7321, -0.5939,  ..., -0.2232, -0.4939, -0.3253],\n",
       "          [ 1.1385,  0.2855,  0.5540,  ..., -0.7063, -0.6987,  0.9656],\n",
       "          [ 0.8497,  0.9224,  0.5808,  ..., -0.4868,  0.0563, -0.9426],\n",
       "          ...,\n",
       "          [-0.2230,  0.4244,  1.7673,  ...,  0.1164, -1.3612, -0.1560],\n",
       "          [-0.9748,  0.1093, -0.5603,  ..., -0.6302, -1.2234,  1.4628],\n",
       "          [ 0.1252, -1.5776,  0.4487,  ...,  0.9454,  2.0703,  0.3751]],\n",
       "\n",
       "         ...,\n",
       "\n",
       "         [[ 1.1279,  0.2904, -1.0413,  ..., -0.4776,  0.9908, -0.5092],\n",
       "          [ 1.0189,  1.5202,  0.7030,  ...,  1.5706, -0.8300,  0.9438],\n",
       "          [-0.1443,  1.4608,  1.5441,  ..., -0.4589, -1.3462, -1.2681],\n",
       "          ...,\n",
       "          [-0.8084,  0.6614,  0.6552,  ..., -0.3481, -0.4006, -0.7783],\n",
       "          [-0.2891, -0.4490, -1.2950,  ...,  0.0794, -1.8704, -1.6496],\n",
       "          [-0.6062,  0.0516,  0.1801,  ..., -0.5690, -2.0727, -0.1402]],\n",
       "\n",
       "         [[ 1.0618, -0.7461, -0.8987,  ...,  0.2958, -1.5618, -0.2066],\n",
       "          [-0.0960, -1.8020,  2.0147,  ..., -0.0384, -0.0064,  0.1649],\n",
       "          [-0.5138, -0.6530, -1.1562,  ..., -0.1684,  1.7535, -0.0336],\n",
       "          ...,\n",
       "          [ 0.7164,  0.3285,  1.7017,  ..., -0.2479, -0.4651,  0.4609],\n",
       "          [ 1.4001, -0.4564,  1.3620,  ...,  0.0605, -1.4946, -0.7703],\n",
       "          [ 0.2330,  1.0829,  2.0745,  ..., -0.9368,  0.0313, -1.3334]],\n",
       "\n",
       "         [[-0.9116,  0.8536,  0.4433,  ..., -0.2769,  0.3482, -0.3786],\n",
       "          [ 1.8955,  0.4971,  0.4317,  ...,  1.3596,  0.0595,  0.2760],\n",
       "          [ 0.4726,  0.6783,  0.7429,  ...,  1.2973,  0.7950, -0.0204],\n",
       "          ...,\n",
       "          [ 0.5448, -0.2280, -1.0049,  ..., -1.7591, -0.9446,  0.1790],\n",
       "          [ 0.6525,  1.3929, -0.6768,  ...,  0.9652, -0.1010, -0.7566],\n",
       "          [-0.0935, -1.6186,  0.8276,  ..., -0.4643, -1.9193, -0.5762]]]],\n",
       "       device='cuda:0')"
      ]
     },
     "execution_count": 40,
     "metadata": {},
     "output_type": "execute_result"
    }
   ],
   "source": [
    "q_rotated"
   ]
  },
  {
   "cell_type": "code",
   "execution_count": 32,
   "metadata": {},
   "outputs": [],
   "source": [
    "torch.testing.assert_close(q_rotated, q_lucidrains)"
   ]
  },
  {
   "cell_type": "code",
   "execution_count": null,
   "metadata": {},
   "outputs": [],
   "source": []
  },
  {
   "cell_type": "code",
   "execution_count": null,
   "metadata": {},
   "outputs": [],
   "source": []
  }
 ],
 "metadata": {
  "kernelspec": {
   "display_name": "env",
   "language": "python",
   "name": "python3"
  },
  "language_info": {
   "codemirror_mode": {
    "name": "ipython",
    "version": 3
   },
   "file_extension": ".py",
   "mimetype": "text/x-python",
   "name": "python",
   "nbconvert_exporter": "python",
   "pygments_lexer": "ipython3",
   "version": "3.11.9"
  }
 },
 "nbformat": 4,
 "nbformat_minor": 2
}
